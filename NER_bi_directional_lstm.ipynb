{
  "nbformat": 4,
  "nbformat_minor": 0,
  "metadata": {
    "colab": {
      "provenance": []
    },
    "kernelspec": {
      "name": "python3",
      "display_name": "Python 3"
    },
    "language_info": {
      "name": "python"
    }
  },
  "cells": [
    {
      "cell_type": "markdown",
      "source": [
        "LINK TO TRAINING DATA: https://paperswithcode.com/dataset/conll-2003"
      ],
      "metadata": {
        "id": "MKe9G_kBgvcp"
      }
    },
    {
      "cell_type": "code",
      "source": [
        "import numpy as np\n",
        "import pandas as pd\n",
        "import seaborn as sns\n",
        "from sklearn.metrics import confusion_matrix"
      ],
      "metadata": {
        "id": "yqEM5oiqRcNd"
      },
      "execution_count": 30,
      "outputs": []
    },
    {
      "cell_type": "markdown",
      "source": [
        "Mount drive to colab for data access"
      ],
      "metadata": {
        "id": "eY-d5Yy2U1GV"
      }
    },
    {
      "cell_type": "code",
      "source": [
        "from google.colab import drive\n",
        "drive.mount('/content/drive')"
      ],
      "metadata": {
        "colab": {
          "base_uri": "https://localhost:8080/",
          "height": 0
        },
        "id": "bBHBalwhF_b1",
        "outputId": "b139d2c5-5026-4a95-d3d6-8b841022e9c9"
      },
      "execution_count": 6,
      "outputs": [
        {
          "output_type": "stream",
          "name": "stdout",
          "text": [
            "Mounted at /content/drive\n"
          ]
        }
      ]
    },
    {
      "cell_type": "markdown",
      "source": [
        "Preview of training dataset"
      ],
      "metadata": {
        "id": "KnhBX_GcU7H8"
      }
    },
    {
      "cell_type": "code",
      "execution_count": 10,
      "metadata": {
        "id": "TP-dJoEEczxI",
        "colab": {
          "base_uri": "https://localhost:8080/",
          "height": 206
        },
        "outputId": "187a2702-c030-4b25-8a70-bf38ef0f8bcc"
      },
      "outputs": [
        {
          "output_type": "execute_result",
          "data": {
            "text/plain": [
              "     Token  POS Phrase     NER\n",
              "0       EU  NNP   B-NP   B-ORG\n",
              "1  rejects  VBZ   B-VP       O\n",
              "2   German   JJ   B-NP  B-MISC\n",
              "3     call   NN   I-NP       O\n",
              "4       to   TO   B-VP       O"
            ],
            "text/html": [
              "\n",
              "  <div id=\"df-d4bac907-e160-400b-9111-8bfd4e27edcb\" class=\"colab-df-container\">\n",
              "    <div>\n",
              "<style scoped>\n",
              "    .dataframe tbody tr th:only-of-type {\n",
              "        vertical-align: middle;\n",
              "    }\n",
              "\n",
              "    .dataframe tbody tr th {\n",
              "        vertical-align: top;\n",
              "    }\n",
              "\n",
              "    .dataframe thead th {\n",
              "        text-align: right;\n",
              "    }\n",
              "</style>\n",
              "<table border=\"1\" class=\"dataframe\">\n",
              "  <thead>\n",
              "    <tr style=\"text-align: right;\">\n",
              "      <th></th>\n",
              "      <th>Token</th>\n",
              "      <th>POS</th>\n",
              "      <th>Phrase</th>\n",
              "      <th>NER</th>\n",
              "    </tr>\n",
              "  </thead>\n",
              "  <tbody>\n",
              "    <tr>\n",
              "      <th>0</th>\n",
              "      <td>EU</td>\n",
              "      <td>NNP</td>\n",
              "      <td>B-NP</td>\n",
              "      <td>B-ORG</td>\n",
              "    </tr>\n",
              "    <tr>\n",
              "      <th>1</th>\n",
              "      <td>rejects</td>\n",
              "      <td>VBZ</td>\n",
              "      <td>B-VP</td>\n",
              "      <td>O</td>\n",
              "    </tr>\n",
              "    <tr>\n",
              "      <th>2</th>\n",
              "      <td>German</td>\n",
              "      <td>JJ</td>\n",
              "      <td>B-NP</td>\n",
              "      <td>B-MISC</td>\n",
              "    </tr>\n",
              "    <tr>\n",
              "      <th>3</th>\n",
              "      <td>call</td>\n",
              "      <td>NN</td>\n",
              "      <td>I-NP</td>\n",
              "      <td>O</td>\n",
              "    </tr>\n",
              "    <tr>\n",
              "      <th>4</th>\n",
              "      <td>to</td>\n",
              "      <td>TO</td>\n",
              "      <td>B-VP</td>\n",
              "      <td>O</td>\n",
              "    </tr>\n",
              "  </tbody>\n",
              "</table>\n",
              "</div>\n",
              "    <div class=\"colab-df-buttons\">\n",
              "\n",
              "  <div class=\"colab-df-container\">\n",
              "    <button class=\"colab-df-convert\" onclick=\"convertToInteractive('df-d4bac907-e160-400b-9111-8bfd4e27edcb')\"\n",
              "            title=\"Convert this dataframe to an interactive table.\"\n",
              "            style=\"display:none;\">\n",
              "\n",
              "  <svg xmlns=\"http://www.w3.org/2000/svg\" height=\"24px\" viewBox=\"0 -960 960 960\">\n",
              "    <path d=\"M120-120v-720h720v720H120Zm60-500h600v-160H180v160Zm220 220h160v-160H400v160Zm0 220h160v-160H400v160ZM180-400h160v-160H180v160Zm440 0h160v-160H620v160ZM180-180h160v-160H180v160Zm440 0h160v-160H620v160Z\"/>\n",
              "  </svg>\n",
              "    </button>\n",
              "\n",
              "  <style>\n",
              "    .colab-df-container {\n",
              "      display:flex;\n",
              "      gap: 12px;\n",
              "    }\n",
              "\n",
              "    .colab-df-convert {\n",
              "      background-color: #E8F0FE;\n",
              "      border: none;\n",
              "      border-radius: 50%;\n",
              "      cursor: pointer;\n",
              "      display: none;\n",
              "      fill: #1967D2;\n",
              "      height: 32px;\n",
              "      padding: 0 0 0 0;\n",
              "      width: 32px;\n",
              "    }\n",
              "\n",
              "    .colab-df-convert:hover {\n",
              "      background-color: #E2EBFA;\n",
              "      box-shadow: 0px 1px 2px rgba(60, 64, 67, 0.3), 0px 1px 3px 1px rgba(60, 64, 67, 0.15);\n",
              "      fill: #174EA6;\n",
              "    }\n",
              "\n",
              "    .colab-df-buttons div {\n",
              "      margin-bottom: 4px;\n",
              "    }\n",
              "\n",
              "    [theme=dark] .colab-df-convert {\n",
              "      background-color: #3B4455;\n",
              "      fill: #D2E3FC;\n",
              "    }\n",
              "\n",
              "    [theme=dark] .colab-df-convert:hover {\n",
              "      background-color: #434B5C;\n",
              "      box-shadow: 0px 1px 3px 1px rgba(0, 0, 0, 0.15);\n",
              "      filter: drop-shadow(0px 1px 2px rgba(0, 0, 0, 0.3));\n",
              "      fill: #FFFFFF;\n",
              "    }\n",
              "  </style>\n",
              "\n",
              "    <script>\n",
              "      const buttonEl =\n",
              "        document.querySelector('#df-d4bac907-e160-400b-9111-8bfd4e27edcb button.colab-df-convert');\n",
              "      buttonEl.style.display =\n",
              "        google.colab.kernel.accessAllowed ? 'block' : 'none';\n",
              "\n",
              "      async function convertToInteractive(key) {\n",
              "        const element = document.querySelector('#df-d4bac907-e160-400b-9111-8bfd4e27edcb');\n",
              "        const dataTable =\n",
              "          await google.colab.kernel.invokeFunction('convertToInteractive',\n",
              "                                                    [key], {});\n",
              "        if (!dataTable) return;\n",
              "\n",
              "        const docLinkHtml = 'Like what you see? Visit the ' +\n",
              "          '<a target=\"_blank\" href=https://colab.research.google.com/notebooks/data_table.ipynb>data table notebook</a>'\n",
              "          + ' to learn more about interactive tables.';\n",
              "        element.innerHTML = '';\n",
              "        dataTable['output_type'] = 'display_data';\n",
              "        await google.colab.output.renderOutput(dataTable, element);\n",
              "        const docLink = document.createElement('div');\n",
              "        docLink.innerHTML = docLinkHtml;\n",
              "        element.appendChild(docLink);\n",
              "      }\n",
              "    </script>\n",
              "  </div>\n",
              "\n",
              "\n",
              "<div id=\"df-09027137-01e0-4675-9f68-dbfdcdce3f21\">\n",
              "  <button class=\"colab-df-quickchart\" onclick=\"quickchart('df-09027137-01e0-4675-9f68-dbfdcdce3f21')\"\n",
              "            title=\"Suggest charts\"\n",
              "            style=\"display:none;\">\n",
              "\n",
              "<svg xmlns=\"http://www.w3.org/2000/svg\" height=\"24px\"viewBox=\"0 0 24 24\"\n",
              "     width=\"24px\">\n",
              "    <g>\n",
              "        <path d=\"M19 3H5c-1.1 0-2 .9-2 2v14c0 1.1.9 2 2 2h14c1.1 0 2-.9 2-2V5c0-1.1-.9-2-2-2zM9 17H7v-7h2v7zm4 0h-2V7h2v10zm4 0h-2v-4h2v4z\"/>\n",
              "    </g>\n",
              "</svg>\n",
              "  </button>\n",
              "\n",
              "<style>\n",
              "  .colab-df-quickchart {\n",
              "      --bg-color: #E8F0FE;\n",
              "      --fill-color: #1967D2;\n",
              "      --hover-bg-color: #E2EBFA;\n",
              "      --hover-fill-color: #174EA6;\n",
              "      --disabled-fill-color: #AAA;\n",
              "      --disabled-bg-color: #DDD;\n",
              "  }\n",
              "\n",
              "  [theme=dark] .colab-df-quickchart {\n",
              "      --bg-color: #3B4455;\n",
              "      --fill-color: #D2E3FC;\n",
              "      --hover-bg-color: #434B5C;\n",
              "      --hover-fill-color: #FFFFFF;\n",
              "      --disabled-bg-color: #3B4455;\n",
              "      --disabled-fill-color: #666;\n",
              "  }\n",
              "\n",
              "  .colab-df-quickchart {\n",
              "    background-color: var(--bg-color);\n",
              "    border: none;\n",
              "    border-radius: 50%;\n",
              "    cursor: pointer;\n",
              "    display: none;\n",
              "    fill: var(--fill-color);\n",
              "    height: 32px;\n",
              "    padding: 0;\n",
              "    width: 32px;\n",
              "  }\n",
              "\n",
              "  .colab-df-quickchart:hover {\n",
              "    background-color: var(--hover-bg-color);\n",
              "    box-shadow: 0 1px 2px rgba(60, 64, 67, 0.3), 0 1px 3px 1px rgba(60, 64, 67, 0.15);\n",
              "    fill: var(--button-hover-fill-color);\n",
              "  }\n",
              "\n",
              "  .colab-df-quickchart-complete:disabled,\n",
              "  .colab-df-quickchart-complete:disabled:hover {\n",
              "    background-color: var(--disabled-bg-color);\n",
              "    fill: var(--disabled-fill-color);\n",
              "    box-shadow: none;\n",
              "  }\n",
              "\n",
              "  .colab-df-spinner {\n",
              "    border: 2px solid var(--fill-color);\n",
              "    border-color: transparent;\n",
              "    border-bottom-color: var(--fill-color);\n",
              "    animation:\n",
              "      spin 1s steps(1) infinite;\n",
              "  }\n",
              "\n",
              "  @keyframes spin {\n",
              "    0% {\n",
              "      border-color: transparent;\n",
              "      border-bottom-color: var(--fill-color);\n",
              "      border-left-color: var(--fill-color);\n",
              "    }\n",
              "    20% {\n",
              "      border-color: transparent;\n",
              "      border-left-color: var(--fill-color);\n",
              "      border-top-color: var(--fill-color);\n",
              "    }\n",
              "    30% {\n",
              "      border-color: transparent;\n",
              "      border-left-color: var(--fill-color);\n",
              "      border-top-color: var(--fill-color);\n",
              "      border-right-color: var(--fill-color);\n",
              "    }\n",
              "    40% {\n",
              "      border-color: transparent;\n",
              "      border-right-color: var(--fill-color);\n",
              "      border-top-color: var(--fill-color);\n",
              "    }\n",
              "    60% {\n",
              "      border-color: transparent;\n",
              "      border-right-color: var(--fill-color);\n",
              "    }\n",
              "    80% {\n",
              "      border-color: transparent;\n",
              "      border-right-color: var(--fill-color);\n",
              "      border-bottom-color: var(--fill-color);\n",
              "    }\n",
              "    90% {\n",
              "      border-color: transparent;\n",
              "      border-bottom-color: var(--fill-color);\n",
              "    }\n",
              "  }\n",
              "</style>\n",
              "\n",
              "  <script>\n",
              "    async function quickchart(key) {\n",
              "      const quickchartButtonEl =\n",
              "        document.querySelector('#' + key + ' button');\n",
              "      quickchartButtonEl.disabled = true;  // To prevent multiple clicks.\n",
              "      quickchartButtonEl.classList.add('colab-df-spinner');\n",
              "      try {\n",
              "        const charts = await google.colab.kernel.invokeFunction(\n",
              "            'suggestCharts', [key], {});\n",
              "      } catch (error) {\n",
              "        console.error('Error during call to suggestCharts:', error);\n",
              "      }\n",
              "      quickchartButtonEl.classList.remove('colab-df-spinner');\n",
              "      quickchartButtonEl.classList.add('colab-df-quickchart-complete');\n",
              "    }\n",
              "    (() => {\n",
              "      let quickchartButtonEl =\n",
              "        document.querySelector('#df-09027137-01e0-4675-9f68-dbfdcdce3f21 button');\n",
              "      quickchartButtonEl.style.display =\n",
              "        google.colab.kernel.accessAllowed ? 'block' : 'none';\n",
              "    })();\n",
              "  </script>\n",
              "</div>\n",
              "    </div>\n",
              "  </div>\n"
            ],
            "application/vnd.google.colaboratory.intrinsic+json": {
              "type": "dataframe",
              "variable_name": "data"
            }
          },
          "metadata": {},
          "execution_count": 10
        }
      ],
      "source": [
        "data = pd.read_csv('/content/drive/MyDrive/ner/train.txt', encoding= 'unicode_escape',sep=\" \",header=None, names=[\"Token\", \"POS\",\"Phrase\",\"NER\"])\n",
        "data.head()"
      ]
    },
    {
      "cell_type": "markdown",
      "source": [
        "This function loads data from two pickle files, features_file and target_file, converts them into lists, and returns them as embeddings and tags respectively."
      ],
      "metadata": {
        "id": "fYuntaG6U_JV"
      }
    },
    {
      "cell_type": "code",
      "source": [
        "def load_data(features_file, target_file):\n",
        "  df = pd.read_pickle(features_file)\n",
        "  embeddings = df.values.tolist()\n",
        "  # embeddings = torch.from_numpy(array)\n",
        "  df = pd.read_pickle(target_file)\n",
        "  # array = df.to_numpy()\n",
        "  tags = df.values.tolist()\n",
        "  print(\"Loading data from files: %s, %s\" % (features_file, target_file))\n",
        "  return embeddings,tags"
      ],
      "metadata": {
        "id": "gLtCnZD_fWnu"
      },
      "execution_count": 2,
      "outputs": []
    },
    {
      "cell_type": "markdown",
      "source": [
        "Loading Train, Test and Val data"
      ],
      "metadata": {
        "id": "S7Mj6694VI2m"
      }
    },
    {
      "cell_type": "code",
      "source": [
        "X_train, y_train = load_data(\"/content/drive/MyDrive/ner/train_x.pkl\",  \"/content/drive/MyDrive/ner/train_y.pkl\")\n",
        "X_val, y_val = load_data(\"/content/drive/MyDrive/ner/val_x.pkl\",  \"/content/drive/MyDrive/ner/val_y.pkl\")\n",
        "X_test, y_test = load_data(\"/content/drive/MyDrive/ner/test_x.pkl\",  \"/content/drive/MyDrive/ner/test_y.pkl\")"
      ],
      "metadata": {
        "colab": {
          "base_uri": "https://localhost:8080/",
          "height": 0
        },
        "id": "o1JwRKxafmbR",
        "outputId": "6b49a9df-c18e-46d7-ecd1-640192d492fd"
      },
      "execution_count": 7,
      "outputs": [
        {
          "output_type": "stream",
          "name": "stdout",
          "text": [
            "Loading data from files: /content/drive/MyDrive/ner/train_x.pkl, /content/drive/MyDrive/ner/train_y.pkl\n",
            "Loading data from files: /content/drive/MyDrive/ner/val_x.pkl, /content/drive/MyDrive/ner/val_y.pkl\n",
            "Loading data from files: /content/drive/MyDrive/ner/test_x.pkl, /content/drive/MyDrive/ner/test_y.pkl\n"
          ]
        }
      ]
    },
    {
      "cell_type": "markdown",
      "source": [
        "Converting data to Numpy array"
      ],
      "metadata": {
        "id": "5KSpWAxoVOGD"
      }
    },
    {
      "cell_type": "code",
      "source": [
        "X_train = np.array(X_train)"
      ],
      "metadata": {
        "id": "KFAdo8flay3u"
      },
      "execution_count": 11,
      "outputs": []
    },
    {
      "cell_type": "code",
      "source": [
        "print(type(X_train))"
      ],
      "metadata": {
        "colab": {
          "base_uri": "https://localhost:8080/",
          "height": 0
        },
        "id": "xSQ3OjW5UDEF",
        "outputId": "8797ba81-9d2f-43d2-dd51-670cb3700d88"
      },
      "execution_count": 13,
      "outputs": [
        {
          "output_type": "stream",
          "name": "stdout",
          "text": [
            "<class 'numpy.ndarray'>\n"
          ]
        }
      ]
    },
    {
      "cell_type": "code",
      "source": [
        "y_train = np.array(np.array([i for i in y_train]))"
      ],
      "metadata": {
        "id": "yyO7n4k0drqT"
      },
      "execution_count": 14,
      "outputs": []
    },
    {
      "cell_type": "code",
      "source": [
        "print(type(y_train))"
      ],
      "metadata": {
        "colab": {
          "base_uri": "https://localhost:8080/",
          "height": 0
        },
        "id": "EwZp4GErUHGj",
        "outputId": "ff5643d9-80e5-438c-ca86-7866b60c9f49"
      },
      "execution_count": 16,
      "outputs": [
        {
          "output_type": "stream",
          "name": "stdout",
          "text": [
            "<class 'numpy.ndarray'>\n"
          ]
        }
      ]
    },
    {
      "cell_type": "code",
      "source": [
        "X_test=np.array(X_test)\n",
        "y_test=np.array(y_test)\n",
        "X_val=np.array(X_val)\n",
        "y_val=np.array(y_val)"
      ],
      "metadata": {
        "id": "gkgPEA3BUdck"
      },
      "execution_count": 60,
      "outputs": []
    },
    {
      "cell_type": "markdown",
      "source": [
        "This code defines a Bidirectional LSTM neural network model using Keras. The model consists of two Bidirectional LSTM layers with dropout layers in between them, followed by a Dense layer for output. The model is compiled using the Adam optimizer and categorical cross-entropy loss function. Finally, the summary of the model architecture is printed."
      ],
      "metadata": {
        "id": "lCRCg6T1XhaP"
      }
    },
    {
      "cell_type": "code",
      "source": [
        "from keras.models import Sequential\n",
        "from keras.layers import Bidirectional, LSTM, Dense, Dropout\n",
        "\n",
        "# Define the model\n",
        "model = Sequential()\n",
        "\n",
        "# Add a Bidirectional LSTM layer\n",
        "input_dim = 300  # Input dimension\n",
        "model.add(Bidirectional(LSTM(units=128, return_sequences=True), input_shape=(None, input_dim)))  # Adjust input shape if needed\n",
        "model.add(Dropout(0.2))  # Add dropout with a dropout rate of 0.5\n",
        "\n",
        "# Add another Bidirectional LSTM layer with dropout\n",
        "model.add(Bidirectional(LSTM(units=128, return_sequences=True)))\n",
        "model.add(Dropout(0.2))  # Add dropout with a dropout rate of 0.5\n",
        "# Add a Dense layer for output\n",
        "output_dim = 10  # Output dimension\n",
        "model.add(Dense(output_dim, activation='softmax'))\n",
        "\n",
        "# Compile the model\n",
        "model.compile(optimizer='adam', loss='categorical_crossentropy', metrics=['accuracy'])\n",
        "\n",
        "# Print the model summary\n",
        "model.summary()\n"
      ],
      "metadata": {
        "colab": {
          "base_uri": "https://localhost:8080/",
          "height": 0
        },
        "id": "JMpp3UopVI-x",
        "outputId": "03eb71bc-83dd-4239-d4d9-0acd85397e18"
      },
      "execution_count": 24,
      "outputs": [
        {
          "output_type": "stream",
          "name": "stdout",
          "text": [
            "Model: \"sequential_1\"\n",
            "_________________________________________________________________\n",
            " Layer (type)                Output Shape              Param #   \n",
            "=================================================================\n",
            " bidirectional_2 (Bidirecti  (None, None, 256)         439296    \n",
            " onal)                                                           \n",
            "                                                                 \n",
            " dropout_2 (Dropout)         (None, None, 256)         0         \n",
            "                                                                 \n",
            " bidirectional_3 (Bidirecti  (None, None, 256)         394240    \n",
            " onal)                                                           \n",
            "                                                                 \n",
            " dropout_3 (Dropout)         (None, None, 256)         0         \n",
            "                                                                 \n",
            " dense_1 (Dense)             (None, None, 10)          2570      \n",
            "                                                                 \n",
            "=================================================================\n",
            "Total params: 836106 (3.19 MB)\n",
            "Trainable params: 836106 (3.19 MB)\n",
            "Non-trainable params: 0 (0.00 Byte)\n",
            "_________________________________________________________________\n"
          ]
        }
      ]
    },
    {
      "cell_type": "markdown",
      "source": [
        "This code defines a ModelCheckpoint callback in Keras, which saves the model with the best validation accuracy during training to the specified filepath. The model is trained using the `fit()` method, with training and validation data (`X_train`, `y_train`, `X_test`, `y_test`), a batch size of 128, and 12 epochs. The ModelCheckpoint callback is passed to the `callbacks` parameter of the `fit()` method. During training, the callback monitors the validation accuracy and saves the model when an improvement is observed."
      ],
      "metadata": {
        "id": "HSAlecsHXnt6"
      }
    },
    {
      "cell_type": "code",
      "source": [
        "from keras.callbacks import ModelCheckpoint\n",
        "\n",
        "# Define the filepath where the model will be saved\n",
        "filepath = \"/content/drive/MyDrive/ner/best_model.h5\"\n",
        "\n",
        "# Define a callback to save the model with the best validation accuracy\n",
        "checkpoint = ModelCheckpoint(filepath, monitor='val_accuracy', verbose=1)\n",
        "\n",
        "# Train the model with the checkpoint callback\n",
        "history = model.fit(X_train, y_train,\n",
        "                    batch_size=128,\n",
        "                    epochs=12,\n",
        "                    validation_data=(X_test, y_test),\n",
        "                    callbacks=[checkpoint])"
      ],
      "metadata": {
        "id": "yuvaBf3iVikz",
        "colab": {
          "base_uri": "https://localhost:8080/",
          "height": 0
        },
        "outputId": "91d372d4-77ef-4fd4-e874-a86fc4d44ee7"
      },
      "execution_count": 25,
      "outputs": [
        {
          "output_type": "stream",
          "name": "stdout",
          "text": [
            "Epoch 1/12\n",
            "537/539 [============================>.] - ETA: 0s - loss: 0.6476 - accuracy: 0.7931\n",
            "Epoch 1: saving model to /content/drive/MyDrive/ner/best_model.h5\n",
            "539/539 [==============================] - 29s 36ms/step - loss: 0.6474 - accuracy: 0.7931 - val_loss: 0.5662 - val_accuracy: 0.8096\n",
            "Epoch 2/12\n"
          ]
        },
        {
          "output_type": "stream",
          "name": "stderr",
          "text": [
            "/usr/local/lib/python3.10/dist-packages/keras/src/engine/training.py:3103: UserWarning: You are saving your model as an HDF5 file via `model.save()`. This file format is considered legacy. We recommend using instead the native Keras format, e.g. `model.save('my_model.keras')`.\n",
            "  saving_api.save_model(\n"
          ]
        },
        {
          "output_type": "stream",
          "name": "stdout",
          "text": [
            "539/539 [==============================] - ETA: 0s - loss: 0.4423 - accuracy: 0.8496\n",
            "Epoch 2: saving model to /content/drive/MyDrive/ner/best_model.h5\n",
            "539/539 [==============================] - 20s 36ms/step - loss: 0.4423 - accuracy: 0.8496 - val_loss: 0.5476 - val_accuracy: 0.8165\n",
            "Epoch 3/12\n",
            "537/539 [============================>.] - ETA: 0s - loss: 0.4052 - accuracy: 0.8609\n",
            "Epoch 3: saving model to /content/drive/MyDrive/ner/best_model.h5\n",
            "539/539 [==============================] - 18s 34ms/step - loss: 0.4051 - accuracy: 0.8610 - val_loss: 0.5429 - val_accuracy: 0.8206\n",
            "Epoch 4/12\n",
            "538/539 [============================>.] - ETA: 0s - loss: 0.3786 - accuracy: 0.8693\n",
            "Epoch 4: saving model to /content/drive/MyDrive/ner/best_model.h5\n",
            "539/539 [==============================] - 20s 37ms/step - loss: 0.3786 - accuracy: 0.8693 - val_loss: 0.5422 - val_accuracy: 0.8223\n",
            "Epoch 5/12\n",
            "538/539 [============================>.] - ETA: 0s - loss: 0.3587 - accuracy: 0.8742\n",
            "Epoch 5: saving model to /content/drive/MyDrive/ner/best_model.h5\n",
            "539/539 [==============================] - 20s 37ms/step - loss: 0.3588 - accuracy: 0.8742 - val_loss: 0.5425 - val_accuracy: 0.8229\n",
            "Epoch 6/12\n",
            "537/539 [============================>.] - ETA: 0s - loss: 0.3425 - accuracy: 0.8809\n",
            "Epoch 6: saving model to /content/drive/MyDrive/ner/best_model.h5\n",
            "539/539 [==============================] - 18s 34ms/step - loss: 0.3428 - accuracy: 0.8808 - val_loss: 0.5442 - val_accuracy: 0.8223\n",
            "Epoch 7/12\n",
            "537/539 [============================>.] - ETA: 0s - loss: 0.3281 - accuracy: 0.8842\n",
            "Epoch 7: saving model to /content/drive/MyDrive/ner/best_model.h5\n",
            "539/539 [==============================] - 21s 39ms/step - loss: 0.3281 - accuracy: 0.8843 - val_loss: 0.5564 - val_accuracy: 0.8230\n",
            "Epoch 8/12\n",
            "537/539 [============================>.] - ETA: 0s - loss: 0.3174 - accuracy: 0.8868\n",
            "Epoch 8: saving model to /content/drive/MyDrive/ner/best_model.h5\n",
            "539/539 [==============================] - 18s 34ms/step - loss: 0.3172 - accuracy: 0.8869 - val_loss: 0.5434 - val_accuracy: 0.8270\n",
            "Epoch 9/12\n",
            "538/539 [============================>.] - ETA: 0s - loss: 0.3077 - accuracy: 0.8908\n",
            "Epoch 9: saving model to /content/drive/MyDrive/ner/best_model.h5\n",
            "539/539 [==============================] - 24s 45ms/step - loss: 0.3077 - accuracy: 0.8908 - val_loss: 0.5496 - val_accuracy: 0.8254\n",
            "Epoch 10/12\n",
            "539/539 [==============================] - ETA: 0s - loss: 0.2989 - accuracy: 0.8929\n",
            "Epoch 10: saving model to /content/drive/MyDrive/ner/best_model.h5\n",
            "539/539 [==============================] - 18s 34ms/step - loss: 0.2989 - accuracy: 0.8929 - val_loss: 0.5553 - val_accuracy: 0.8272\n",
            "Epoch 11/12\n",
            "538/539 [============================>.] - ETA: 0s - loss: 0.2908 - accuracy: 0.8948\n",
            "Epoch 11: saving model to /content/drive/MyDrive/ner/best_model.h5\n",
            "539/539 [==============================] - 19s 35ms/step - loss: 0.2909 - accuracy: 0.8947 - val_loss: 0.5603 - val_accuracy: 0.8279\n",
            "Epoch 12/12\n",
            "537/539 [============================>.] - ETA: 0s - loss: 0.2852 - accuracy: 0.8957\n",
            "Epoch 12: saving model to /content/drive/MyDrive/ner/best_model.h5\n",
            "539/539 [==============================] - 18s 34ms/step - loss: 0.2851 - accuracy: 0.8957 - val_loss: 0.5696 - val_accuracy: 0.8288\n"
          ]
        }
      ]
    },
    {
      "cell_type": "markdown",
      "source": [
        "This code evaluates the performance of a loaded Keras model on validation data (`X_val`, `y_val`). It first loads the saved model from the specified filepath. Then, it uses the loaded model to make predictions on the validation data (`X_val`). The predictions are converted to the appropriate format using `argmax`. Finally, it calculates the F1 score and accuracy score using the predicted labels and prints the F1 score."
      ],
      "metadata": {
        "id": "4u3QvWYjXy2J"
      }
    },
    {
      "cell_type": "code",
      "source": [
        "from sklearn.metrics import f1_score,accuracy_score\n",
        "from keras.models import load_model\n",
        "\n",
        "# Load the saved model\n",
        "loaded_model = load_model('/content/drive/MyDrive/ner/best_model.h5')\n",
        "\n",
        "# Make predictions on the test data\n",
        "y_pred = loaded_model.predict(X_val)\n",
        "\n",
        "# Convert predicted labels to the appropriate format\n",
        "y_pred_argmax = np.argmax(y_pred, axis=2)\n",
        "\n",
        "# Calculate the F1 score\n",
        "f1 = f1_score(y_val.argmax(axis=2).flatten(), y_pred_argmax.flatten(), average='weighted')\n",
        "acc = accuracy_score(y_val.argmax(axis=2).flatten(), y_pred_argmax.flatten())\n",
        "print(\"F1 score on test data:\", f1)"
      ],
      "metadata": {
        "colab": {
          "base_uri": "https://localhost:8080/",
          "height": 0
        },
        "id": "SOFm1SB2Vv7Y",
        "outputId": "9edcb6e8-de23-46e6-c680-c0b98309920f"
      },
      "execution_count": 26,
      "outputs": [
        {
          "output_type": "stream",
          "name": "stdout",
          "text": [
            "540/540 [==============================] - 9s 10ms/step\n",
            "F1 score on test data: 0.8703543155377128\n"
          ]
        }
      ]
    },
    {
      "cell_type": "markdown",
      "source": [
        "This code calculates the confusion matrix (`cm`) using the true labels (`y_val`) and the predicted labels (`y_pred_argmax`) flattened to a 1D array."
      ],
      "metadata": {
        "id": "YkSvDN30X_wE"
      }
    },
    {
      "cell_type": "code",
      "source": [
        "cm= confusion_matrix(y_val.argmax(axis=2).flatten(), y_pred_argmax.flatten())\n",
        "cm"
      ],
      "metadata": {
        "colab": {
          "base_uri": "https://localhost:8080/",
          "height": 0
        },
        "id": "gDUoxCJBZ_Vl",
        "outputId": "de435873-b286-47c9-e9fd-252c0dac39bf"
      },
      "execution_count": 28,
      "outputs": [
        {
          "output_type": "execute_result",
          "data": {
            "text/plain": [
              "array([[ 880,   59,   18,   26,  101,   99,   23,    3,   15],\n",
              "       [  24, 9485,    4,    6,   12,   39,   17,   19,    5],\n",
              "       [  15,   67, 1289,  368,   28,    8,    3,    1,    1],\n",
              "       [  23,  170,  144,  896,   23,    7,    5,    4,    2],\n",
              "       [ 117,   42,    5,   15, 1506,   28,   17,    0,   22],\n",
              "       [  61,   52,   19,   20,   50,  367,   13,   12,   43],\n",
              "       [  32,   55,   11,    3,   39,   12,  307,   17,    0],\n",
              "       [  12,   35,    2,    9,    3,   10,   26,  159,    7],\n",
              "       [   2,    9,    3,    8,   17,   20,    2,    8,  168]])"
            ]
          },
          "metadata": {},
          "execution_count": 28
        }
      ]
    },
    {
      "cell_type": "code",
      "source": [
        "sns.heatmap(cm,cmap='summer')"
      ],
      "metadata": {
        "colab": {
          "base_uri": "https://localhost:8080/",
          "height": 448
        },
        "id": "Ze5TJ-4kaK40",
        "outputId": "4e42c1c9-66ef-45ba-bd55-81d944ac67f7"
      },
      "execution_count": 51,
      "outputs": [
        {
          "output_type": "execute_result",
          "data": {
            "text/plain": [
              "<Axes: >"
            ]
          },
          "metadata": {},
          "execution_count": 51
        },
        {
          "output_type": "display_data",
          "data": {
            "text/plain": [
              "<Figure size 640x480 with 2 Axes>"
            ],
            "image/png": "[encoded data removed]"
          },
          "metadata": {}
        }
      ]
    },
    {
      "cell_type": "markdown",
      "source": [
        "\n",
        "This code imports the KeyedVectors class from the gensim library, allowing manipulation of word embeddings."
      ],
      "metadata": {
        "id": "1mfWWj67is49"
      }
    },
    {
      "cell_type": "code",
      "source": [
        "from gensim.models.keyedvectors import KeyedVectors"
      ],
      "metadata": {
        "id": "Ac4h-g3KYx9A"
      },
      "execution_count": 62,
      "outputs": []
    },
    {
      "cell_type": "markdown",
      "source": [
        "This function loads pre-trained Word2Vec word embeddings from a file using gensim's `KeyedVectors` class, and returns the loaded model. Then, it loads the Word2Vec embeddings from the specified file path into the variable `trained_model`."
      ],
      "metadata": {
        "id": "6Lo_qlVDi0dj"
      }
    },
    {
      "cell_type": "code",
      "source": [
        "def load_word_embeddings(embeddings_file_path):\n",
        "    model = KeyedVectors.load_word2vec_format(embeddings_file_path, binary=True)\n",
        "    return model\n",
        "\n",
        "trained_model = load_word_embeddings(\"/content/drive/MyDrive/ner/GoogleNews-vectors-negative300.bin\")"
      ],
      "metadata": {
        "id": "kcsrro5yYMzN"
      },
      "execution_count": 63,
      "outputs": []
    },
    {
      "cell_type": "markdown",
      "source": [
        "This function takes a list of numerical values representing a tag (e.g., predicted probabilities or scores) and converts it into a one-hot encoded format by setting the maximum value to 1 and all other values to 0."
      ],
      "metadata": {
        "id": "UsoDz1Oxi4Wn"
      }
    },
    {
      "cell_type": "code",
      "source": [
        "def tagit(tag):\n",
        "  i = tag.index(max(tag))\n",
        "  tag = [0]*len(tag)\n",
        "  tag[i] = 1\n",
        "  return tag"
      ],
      "metadata": {
        "id": "lXpxbv7RZY0B"
      },
      "execution_count": 68,
      "outputs": []
    },
    {
      "cell_type": "markdown",
      "source": [
        "This function predicts named entity recognition (NER) tags for each word in a given sentence using a provided NER model and a pre-trained word embedding model. It splits the input sentence into words, retrieves the word embeddings from the pre-trained model, predicts the NER tag using the provided NER model, and converts the prediction into a one-hot encoded format using the `tagit` function. Finally, it returns a list of predicted tags for each word in the sentence."
      ],
      "metadata": {
        "id": "Kl1cCyW3i8vR"
      }
    },
    {
      "cell_type": "code",
      "source": [
        "def predict_ner_tag(sentence, ner_model, trained_embed_model):\n",
        "  tags=[]\n",
        "  words=sentence.split(\" \")\n",
        "  for i in words:\n",
        "    try:\n",
        "      word=trained_embed_model[i]\n",
        "    except:\n",
        "      word=[0]*300\n",
        "    tag=ner_model.predict(np.array([[word]]))\n",
        "    tag=np.squeeze(tag).tolist()\n",
        "    tag=tagit(tag)\n",
        "    tags.append(tag)\n",
        "  return tags"
      ],
      "metadata": {
        "id": "_KTyHtbGXVh4"
      },
      "execution_count": 98,
      "outputs": []
    },
    {
      "cell_type": "markdown",
      "source": [
        "This function decodes a one-hot encoded NER tag by mapping the index of the '1' value back to the corresponding NER label using a predefined dictionary of NER labels. If the tag does not match any known NER label, it returns 'Non-Named entity'."
      ],
      "metadata": {
        "id": "rjbR1XG1jBe4"
      }
    },
    {
      "cell_type": "code",
      "source": [
        "def decode_tag(tag):\n",
        "  ner_labels = {'B-ORG': 0,\n",
        "                'O': 1,\n",
        "                'B-PER': 2,\n",
        "                'I-PER': 3,\n",
        "                'B-LOC': 4,\n",
        "                'I-ORG': 5,\n",
        "                'B-MISC': 6,\n",
        "                'I-MISC': 7,\n",
        "                'I-LOC': 8}\n",
        "\n",
        "  i = tag.index(1)\n",
        "  for k,v in ner_labels.items():\n",
        "    if i==v:\n",
        "      return k\n",
        "  return 'Non-Named entity'"
      ],
      "metadata": {
        "id": "bgrQzlW8akmO"
      },
      "execution_count": 85,
      "outputs": []
    },
    {
      "cell_type": "markdown",
      "source": [
        "This function predicts named entity recognition (NER) tags for each word in a given sentence using the provided NER model and pre-trained word embedding model. It then decodes the predicted tags using the `decode_tag` function to obtain the corresponding NER labels. Finally, it returns a list of decoded NER labels for each word in the sentence."
      ],
      "metadata": {
        "id": "oKHlsfMBjGHc"
      }
    },
    {
      "cell_type": "code",
      "source": [
        "def pred_ner(sentence, ner_model, trained_embed_model):\n",
        "  tags=predict_ner_tag(sentence, ner_model, trained_embed_model)\n",
        "  for i in range(len(tags)):\n",
        "    tags[i] = decode_tag(tags[i])\n",
        "  return tags"
      ],
      "metadata": {
        "id": "PhsDQH5jcHap"
      },
      "execution_count": 72,
      "outputs": []
    },
    {
      "cell_type": "markdown",
      "source": [
        "Example sentence"
      ],
      "metadata": {
        "id": "Daeb-Hjtg6qF"
      }
    },
    {
      "cell_type": "code",
      "source": [
        "sentence = \"Germany is under attack\"\n",
        "tags = pred_ner(sentence, model, trained_model)\n",
        "print(tags)"
      ],
      "metadata": {
        "colab": {
          "base_uri": "https://localhost:8080/",
          "height": 0
        },
        "id": "WP3Aw-Q8djzw",
        "outputId": "e8a44fef-4b0d-414b-f9c3-2d4877af2301"
      },
      "execution_count": 99,
      "outputs": [
        {
          "output_type": "stream",
          "name": "stdout",
          "text": [
            "1/1 [==============================] - 0s 97ms/step\n",
            "1/1 [==============================] - 0s 96ms/step\n",
            "1/1 [==============================] - 0s 87ms/step\n",
            "1/1 [==============================] - 0s 104ms/step\n",
            "['B-LOC', 'O', 'O', 'O']\n"
          ]
        }
      ]
    },
    {
      "cell_type": "markdown",
      "source": [
        "Try it yourself!"
      ],
      "metadata": {
        "id": "odC-IEcug9ok"
      }
    },
    {
      "cell_type": "markdown",
      "source": [
        "These labels represent named entity recognition (NER) tags commonly used in natural language processing tasks, particularly in the context of entity recognition within text data. Here's what each label typically represents:\n",
        "\n",
        "'B-ORG': Beginning of an organization entity.\n",
        "\n",
        "'O': Outside of any named entity or non-entity.\n",
        "\n",
        "'B-PER': Beginning of a person's name entity.\n",
        "\n",
        "'I-PER': Inside a person's name entity (used for subsequent words in a person's name).\n",
        "\n",
        "'B-LOC': Beginning of a location entity.\n",
        "\n",
        "'I-ORG': Inside an organization entity (used for subsequent words in an organization's name).\n",
        "\n",
        "'B-MISC': Beginning of a miscellaneous entity (anything not covered by the other categories).\n",
        "\n",
        "'I-MISC': Inside a miscellaneous entity (used for subsequent words in a miscellaneous entity).\n",
        "\n",
        "'I-LOC': Inside a location entity (used for subsequent words in a location)."
      ],
      "metadata": {
        "id": "AvRA0aphhhkf"
      }
    },
    {
      "cell_type": "code",
      "source": [
        "sentence = input(\"Enter Sentence: \")\n",
        "tags = pred_ner(sentence, model, trained_model)\n",
        "print(tags)"
      ],
      "metadata": {
        "colab": {
          "base_uri": "https://localhost:8080/",
          "height": 0
        },
        "id": "UwWsA4P_g8_3",
        "outputId": "122af707-64e7-4416-d8ae-0461bcdef636"
      },
      "execution_count": 104,
      "outputs": [
        {
          "output_type": "stream",
          "name": "stdout",
          "text": [
            "Enter Sentence: Mr. Armand Smith did a great job\n",
            "1/1 [==============================] - 0s 24ms/step\n",
            "1/1 [==============================] - 0s 25ms/step\n",
            "1/1 [==============================] - 0s 24ms/step\n",
            "1/1 [==============================] - 0s 23ms/step\n",
            "1/1 [==============================] - 0s 23ms/step\n",
            "1/1 [==============================] - 0s 26ms/step\n",
            "1/1 [==============================] - 0s 27ms/step\n",
            "['O', 'B-PER', 'I-PER', 'O', 'O', 'O', 'O']\n"
          ]
        }
      ]
    },
    {
      "cell_type": "code",
      "source": [],
      "metadata": {
        "id": "RQVJJPrBhDq2"
      },
      "execution_count": null,
      "outputs": []
    }
  ]
}